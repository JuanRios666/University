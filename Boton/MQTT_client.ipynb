{
  "nbformat": 4,
  "nbformat_minor": 0,
  "metadata": {
    "colab": {
      "provenance": []
    },
    "kernelspec": {
      "name": "python3",
      "display_name": "Python 3"
    },
    "language_info": {
      "name": "python"
    }
  },
  "cells": [
    {
      "cell_type": "code",
      "source": [
        "pip install paho-mqtt"
      ],
      "metadata": {
        "id": "WM4qrbovornZ"
      },
      "execution_count": null,
      "outputs": []
    },
    {
      "cell_type": "code",
      "source": [
        "import paho.mqtt.client as mqtt\n",
        "import time\n",
        "import folium\n",
        "import webbrowser\n",
        "import os\n",
        "import pandas as pd"
      ],
      "metadata": {
        "id": "CsWwuIhg_BDK"
      },
      "execution_count": null,
      "outputs": []
    },
    {
      "cell_type": "code",
      "execution_count": null,
      "metadata": {
        "id": "HV85elCG-sn6"
      },
      "outputs": [],
      "source": [
        "def add_data(dato):\n",
        "    telemetria = dato.split(',')\n",
        "    df = pd.read_csv('datos.csv')\n",
        "    new_data = {'Latitude': float(telemetria[1]), 'Longitude': float(telemetria[2])}\n",
        "    df = df._append(new_data, ignore_index=True)\n",
        "    df.to_csv('datos.csv', index=False)\n",
        "\n",
        "def decode(input_string):\n",
        "    rssi_hex = input_string[:8]  # First 8 characters for RSSI in hexadecimal\n",
        "    snr_hex = input_string[8:16]  # Next 8 characters for SNR in hexadecimal\n",
        "    message_hex = input_string[16:]  # Rest of the characters for the message in hexadecimal\n",
        "\n",
        "    # Convert hexadecimal strings to integers\n",
        "    rssi = int(rssi_hex, 16) - 0x100000000\n",
        "    snr = int(snr_hex, 16)/10\n",
        "\n",
        "    # Convert the remaining hexadecimal part to ASCII to get the message\n",
        "    message_ascii = bytes.fromhex(message_hex).decode('utf-8')\n",
        "\n",
        "    return rssi, snr, message_ascii\n",
        "\n",
        "def on_message(client, userdata, message):\n",
        "    #global recibido\n",
        "    #recibido = True\n",
        "    print(\"Message received: \" + str(message.payload.decode(\"utf8\")))\n",
        "    print(\"Topic: \" + str(message.topic))\n",
        "    rssi, snr, msn = decode(message.payload.decode(\"utf8\"))\n",
        "    print(\"RSSI: \" + str(rssi))\n",
        "    print(\"SNR: \" + str(snr))\n",
        "    print(\"Message: \" + str(msn))\n",
        "    add_data(str(msn))\n",
        "\n",
        "def on_connect(client, userdata, flags, rc):\n",
        "    if rc ==0:\n",
        "          global connected\n",
        "          if connected == False:\n",
        "            print(\"Connected OK\")\n",
        "            connected = True\n",
        "\n",
        "datos = pd.DataFrame(columns=['Latitude', 'Longitude'])\n",
        "datos.to_csv('datos.csv', index=False)"
      ]
    },
    {
      "cell_type": "code",
      "source": [
        "connected = False\n",
        "recibido = False\n",
        "\n",
        "broker_address = \"test.mosquitto.org\"\n",
        "port = 1883\n",
        "\n",
        "client = mqtt.Client(\"asdasda\")\n",
        "client.connect(broker_address, port = port)\n",
        "client.on_connect =  on_connect\n",
        "client.loop_start()\n",
        "client.subscribe(\"dragino-2277dc/E66118C4/data\")\n",
        "client.on_message = on_message\n",
        "\n",
        "while connected!= True:\n",
        "  time.sleep(20)\n",
        "while recibido != True:\n",
        "  time.sleep(0.5)\n",
        "\n",
        "client.loop_stop()\n"
      ],
      "metadata": {
        "colab": {
          "base_uri": "https://localhost:8080/",
          "height": 1000
        },
        "id": "ijz3bIcU-2ML",
        "outputId": "eb77a23e-3799-408b-8c65-f05882b1f78e"
      },
      "execution_count": null,
      "outputs": [
        {
          "output_type": "stream",
          "name": "stdout",
          "text": [
            "Connected OK\n",
            "Message received: ffffffb30000008e312c20362e3236333432392c202d 37352e353631383336\n",
            "Topic: dragino-2277dc/E66118C4/data\n",
            "RSSI: -77\n",
            "SNR: 14.2\n",
            "Message: 1, 6.263429, -75.561836\n",
            "Message received: ffffffb30000009d312c20362e3236333431372c202d 37352e353631383434\n",
            "Topic: dragino-2277dc/E66118C4/data\n",
            "RSSI: -77\n",
            "SNR: 15.7\n",
            "Message: 1, 6.263417, -75.561844\n",
            "Message received: ffffffb500000096312c20362e3236333433362c202d 37352e353631373938\n",
            "Topic: dragino-2277dc/E66118C4/data\n",
            "RSSI: -75\n",
            "SNR: 15.0\n",
            "Message: 1, 6.263436, -75.561798\n",
            "Message received: ffffffb400000091312c20362e3236333435322c202d 37352e353631373938\n",
            "Topic: dragino-2277dc/E66118C4/data\n",
            "RSSI: -76\n",
            "SNR: 14.5\n",
            "Message: 1, 6.263452, -75.561798\n",
            "Message received: ffffffaf0000008c312c20362e3236333434342c202d 37352e353631383036\n",
            "Topic: dragino-2277dc/E66118C4/data\n",
            "RSSI: -81\n",
            "SNR: 14.0\n",
            "Message: 1, 6.263444, -75.561806\n",
            "Message received: ffffffb200000073312c20362e3236333435372c202d 37352e353631383231\n",
            "Topic: dragino-2277dc/E66118C4/data\n",
            "RSSI: -78\n",
            "SNR: 11.5\n",
            "Message: 1, 6.263457, -75.561821\n",
            "Message received: ffffffb10000008e312c20362e3236333434382c202d 37352e353631373938\n",
            "Topic: dragino-2277dc/E66118C4/data\n",
            "RSSI: -79\n",
            "SNR: 14.2\n",
            "Message: 1, 6.263448, -75.561798\n",
            "Message received: ffffffb200000087312c20362e3236333437342c202d 37352e353631373938\n",
            "Topic: dragino-2277dc/E66118C4/data\n",
            "RSSI: -78\n",
            "SNR: 13.5\n",
            "Message: 1, 6.263474, -75.561798\n",
            "Message received: ffffffb30000008e312c20362e3236333434332c202d 37352e353631383231\n",
            "Topic: dragino-2277dc/E66118C4/data\n",
            "RSSI: -77\n",
            "SNR: 14.2\n",
            "Message: 1, 6.263443, -75.561821\n",
            "Message received: ffffffa50000003e312c20362e3236333437312c202d 37352e353631383231\n",
            "Topic: dragino-2277dc/E66118C4/data\n",
            "RSSI: -91\n",
            "SNR: 6.2\n",
            "Message: 1, 6.263471, -75.561821\n",
            "Message received: ffffff9cffffffb3312c20362e3236333436312c202d 37352e353631393433\n",
            "Topic: dragino-2277dc/E66118C4/data\n",
            "RSSI: -100\n",
            "SNR: 429496721.9\n",
            "Message: 1, 6.263461, -75.561943\n",
            "Message received: ffffff9bffffffae312c20362e3236333231352c202d 37352e353631393230\n",
            "Topic: dragino-2277dc/E66118C4/data\n",
            "RSSI: -101\n",
            "SNR: 429496721.4\n",
            "Message: 1, 6.263215, -75.561920\n"
          ]
        },
        {
          "output_type": "error",
          "ename": "KeyboardInterrupt",
          "evalue": "ignored",
          "traceback": [
            "\u001b[0;31m---------------------------------------------------------------------------\u001b[0m",
            "\u001b[0;31mKeyboardInterrupt\u001b[0m                         Traceback (most recent call last)",
            "\u001b[0;32m<ipython-input-44-f73a378c5c5e>\u001b[0m in \u001b[0;36m<cell line: 16>\u001b[0;34m()\u001b[0m\n\u001b[1;32m     15\u001b[0m   \u001b[0mtime\u001b[0m\u001b[0;34m.\u001b[0m\u001b[0msleep\u001b[0m\u001b[0;34m(\u001b[0m\u001b[0;36m20\u001b[0m\u001b[0;34m)\u001b[0m\u001b[0;34m\u001b[0m\u001b[0;34m\u001b[0m\u001b[0m\n\u001b[1;32m     16\u001b[0m \u001b[0;32mwhile\u001b[0m \u001b[0mrecibido\u001b[0m \u001b[0;34m!=\u001b[0m \u001b[0;32mTrue\u001b[0m\u001b[0;34m:\u001b[0m\u001b[0;34m\u001b[0m\u001b[0;34m\u001b[0m\u001b[0m\n\u001b[0;32m---> 17\u001b[0;31m   \u001b[0mtime\u001b[0m\u001b[0;34m.\u001b[0m\u001b[0msleep\u001b[0m\u001b[0;34m(\u001b[0m\u001b[0;36m0.5\u001b[0m\u001b[0;34m)\u001b[0m\u001b[0;34m\u001b[0m\u001b[0;34m\u001b[0m\u001b[0m\n\u001b[0m\u001b[1;32m     18\u001b[0m \u001b[0;34m\u001b[0m\u001b[0m\n\u001b[1;32m     19\u001b[0m \u001b[0mclient\u001b[0m\u001b[0;34m.\u001b[0m\u001b[0mloop_stop\u001b[0m\u001b[0;34m(\u001b[0m\u001b[0;34m)\u001b[0m\u001b[0;34m\u001b[0m\u001b[0;34m\u001b[0m\u001b[0m\n",
            "\u001b[0;31mKeyboardInterrupt\u001b[0m: "
          ]
        }
      ]
    },
    {
      "cell_type": "code",
      "source": [
        "# Create a map centered at a specific latitude and longitude\n",
        "map_center = [6.263432, -75.561852]  # Home\n",
        "my_map = folium.Map(location=map_center, zoom_start=20)\n",
        "datos = pd.read_csv('datos.csv')\n",
        "lat = datos['Latitude'].tolist()\n",
        "lon = datos['Longitude'].tolist()\n",
        "\n",
        "for i in range(len(lat)):\n",
        "    # Extract latitude and longitude values\n",
        "    print(lat[i],lon[i])\n",
        "    folium.Marker(location=(lat[i],lon[i]),icon=folium.Icon(color='red', icon='ok-circle', prefix='fa')).add_to(my_map)\n",
        "\n",
        "\n",
        "# Save the map to an HTML file and open it in a web browser\n",
        "my_map.save('recorrido.html')\n"
      ],
      "metadata": {
        "colab": {
          "base_uri": "https://localhost:8080/"
        },
        "id": "g3LHJC5codHc",
        "outputId": "7f0085bb-cc7b-4a74-ecc5-d8f55e155f37"
      },
      "execution_count": null,
      "outputs": [
        {
          "output_type": "stream",
          "name": "stdout",
          "text": [
            "6.263429 -75.561836\n",
            "6.263417 -75.561844\n",
            "6.263436 -75.561798\n",
            "6.263452 -75.561798\n",
            "6.263444 -75.561806\n",
            "6.263457 -75.561821\n",
            "6.263448 -75.561798\n",
            "6.263474 -75.561798\n",
            "6.263443 -75.561821\n",
            "6.263471 -75.561821\n",
            "6.263461 -75.561943\n",
            "6.263215 -75.56192\n"
          ]
        }
      ]
    },
    {
      "cell_type": "code",
      "source": [
        "from IPython.display import IFrame\n",
        "IFrame(src='recorrido.html', width=900, height=600)"
      ],
      "metadata": {
        "colab": {
          "base_uri": "https://localhost:8080/",
          "height": 17
        },
        "id": "BOoTdeNGvKaw",
        "outputId": "31df05fa-c939-4c0d-fa6e-1950fae0a459"
      },
      "execution_count": null,
      "outputs": [
        {
          "output_type": "execute_result",
          "data": {
            "text/plain": [
              "<IPython.lib.display.IFrame at 0x7e416b17b490>"
            ],
            "text/html": [
              "\n",
              "        <iframe\n",
              "            width=\"900\"\n",
              "            height=\"600\"\n",
              "            src=\"recorrido.html\"\n",
              "            frameborder=\"0\"\n",
              "            allowfullscreen\n",
              "            \n",
              "        ></iframe>\n",
              "        "
            ]
          },
          "metadata": {},
          "execution_count": 46
        }
      ]
    }
  ]
}